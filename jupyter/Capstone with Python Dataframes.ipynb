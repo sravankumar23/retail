{
 "cells": [
  {
   "cell_type": "markdown",
   "metadata": {},
   "source": [
    "### Import Stuff"
   ]
  },
  {
   "cell_type": "code",
   "execution_count": 1,
   "metadata": {
    "collapsed": false
   },
   "outputs": [],
   "source": [
    "from pyspark.sql import SQLContext\n",
    "from pyspark.sql import functions as F\n",
    "from pyspark.sql.functions import udf\n",
    "import pyspark.sql.types as T"
   ]
  },
  {
   "cell_type": "markdown",
   "metadata": {},
   "source": [
    "### Create Dataframes on Cassandra tables"
   ]
  },
  {
   "cell_type": "code",
   "execution_count": 2,
   "metadata": {
    "collapsed": true
   },
   "outputs": [],
   "source": [
    "stores_df = sqlContext.read\\\n",
    "    .format(\"org.apache.spark.sql.cassandra\")\\\n",
    "    .options(keyspace=\"retail\", table=\"stores\")\\\n",
    "    .load()"
   ]
  },
  {
   "cell_type": "code",
   "execution_count": 3,
   "metadata": {
    "collapsed": false
   },
   "outputs": [],
   "source": [
    "receipts_by_store_date_df = sqlContext.read\\\n",
    "    .format(\"org.apache.spark.sql.cassandra\")\\\n",
    "    .options(keyspace=\"retail\", table=\"receipts_by_store_date\")\\\n",
    "    .load()"
   ]
  },
  {
   "cell_type": "markdown",
   "metadata": {},
   "source": [
    "### Create UDFs - These may not perform well, but are run only on the final results"
   ]
  },
  {
   "cell_type": "code",
   "execution_count": 4,
   "metadata": {
    "collapsed": false
   },
   "outputs": [],
   "source": [
    "concat = udf(lambda s1, s2: s1 + s2, T.StringType())"
   ]
  },
  {
   "cell_type": "markdown",
   "metadata": {},
   "source": [
    "### Compute the sales by state\n",
    "1. join receipts_by_store_date to store\n",
    "2. group by state\n",
    "3. sum by receipt_total\n",
    "4. do a select to add the dummy column, rename columns, compute the region and round the totals"
   ]
  },
  {
   "cell_type": "code",
   "execution_count": 5,
   "metadata": {
    "collapsed": false
   },
   "outputs": [],
   "source": [
    "sales_by_state_df = receipts_by_store_date_df\\\n",
    "   .join(stores_df, stores_df.store_id == receipts_by_store_date_df.store_id )\\\n",
    "   .groupBy(\"state\")\\\n",
    "   .sum(\"receipt_total\")\\\n",
    "   .select(F.lit(\"dummy\").alias(\"dummy\"), \"state\", concat(F.lit(\"US-\"),\"state\").alias(\"region\"), F.col(\"SUM(receipt_total)\").cast(\"Decimal(10,2)\").alias(\"receipts_total\"))"
   ]
  },
  {
   "cell_type": "markdown",
   "metadata": {},
   "source": [
    "### Save it"
   ]
  },
  {
   "cell_type": "code",
   "execution_count": 9,
   "metadata": {
    "collapsed": false
   },
   "outputs": [],
   "source": [
    "sales_by_state_df.write\\\n",
    "      .format(\"org.apache.spark.sql.cassandra\")\\\n",
    "      .options(keyspace = \"retail\", table = \"sales_by_state\")\\\n",
    "      .mode('overwrite')\\\n",
    "      .save()"
   ]
  },
  {
   "cell_type": "code",
   "execution_count": null,
   "metadata": {
    "collapsed": true
   },
   "outputs": [],
   "source": []
  }
 ],
 "metadata": {
  "kernelspec": {
   "display_name": "Pyspark DSE Cluster",
   "language": "python",
   "name": "pyspark-dse-cluster"
  },
  "language_info": {
   "codemirror_mode": {
    "name": "ipython",
    "version": 2
   },
   "file_extension": ".py",
   "mimetype": "text/x-python",
   "name": "python",
   "nbconvert_exporter": "python",
   "pygments_lexer": "ipython2",
   "version": "2.7.9"
  }
 },
 "nbformat": 4,
 "nbformat_minor": 0
}
